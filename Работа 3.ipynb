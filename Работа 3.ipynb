{
  "cells": [
    {
      "cell_type": "markdown",
      "metadata": {
        "id": "EVbqAmZF1ckK"
      },
      "source": [
        "# Самостоятельная работа (Работа со списками. Цикл While)"
      ]
    },
    {
      "cell_type": "markdown",
      "metadata": {
        "id": "iQhhkJb8yk0e"
      },
      "source": [
        "## Задача 1. Первые станут последними, последние - первыми..."
      ]
    },
    {
      "cell_type": "markdown",
      "metadata": {
        "id": "4CntGw70y0cl"
      },
      "source": [
        "На вход программе дается список целых чисел. Необходимо поменять местами первое и последнее значения."
      ]
    },
    {
      "cell_type": "markdown",
      "metadata": {
        "id": "2cTbtyQ62Jn0"
      },
      "source": [
        "### Пример"
      ]
    },
    {
      "cell_type": "markdown",
      "metadata": {
        "id": "rl9nUzJZ0MEd"
      },
      "source": [
        "**Ввод:**\n",
        "\n",
        "```\n",
        "[65, 5, 34, 12, 13, 87, 15, 57, 89, 43]\n",
        "```\n",
        "\n",
        "**Вывод:**\n",
        "\n",
        "```\n",
        "[43, 5, 34, 12, 13, 87, 15, 57, 89, 65]\n",
        "```"
      ]
    },
    {
      "cell_type": "code",
      "execution_count": 1,
      "metadata": {
        "id": "VjEAUOwoy85-"
      },
      "outputs": [],
      "source": [
        "list_to_change = [65, 5, 34, 12, 13, 87, 15, 57, 89, 43]"
      ]
    },
    {
      "cell_type": "code",
      "execution_count": 8,
      "metadata": {
        "id": "xDr0YsR_0kNP"
      },
      "outputs": [
        {
          "name": "stdout",
          "output_type": "stream",
          "text": [
            "[65, 5, 34, 12, 13, 87, 15, 57, 89, 43]\n"
          ]
        }
      ],
      "source": [
        "# ваш код в этой ячейке\n",
        "list_to_change[-1],list_to_change[0]=list_to_change[0],list_to_change[-1]\n",
        "print(list_to_change)"
      ]
    },
    {
      "cell_type": "markdown",
      "metadata": {
        "id": "zdiRaLuLuJOf"
      },
      "source": [
        "## Задача 2. Радуга"
      ]
    },
    {
      "cell_type": "markdown",
      "metadata": {
        "id": "ju7Wqnh4uOeN"
      },
      "source": [
        "Дан список цветов радуги. Напишите программу, которая выведет каждый элемент списка в отдельной строке.\n",
        "\n",
        "Примечание: в задаче необходимо использовать цикл while."
      ]
    },
    {
      "cell_type": "markdown",
      "metadata": {
        "id": "Qh6ECPCnugB3"
      },
      "source": [
        "### Пример"
      ]
    },
    {
      "cell_type": "markdown",
      "metadata": {
        "id": "ey2W3nqFugB4"
      },
      "source": [
        "**Ввод:**\n",
        "\n",
        "```\n",
        "['красный', 'оранжевый', 'желтый', 'зеленый', 'голубой', 'синий', 'фиолетовый']\n",
        "```\n",
        "\n",
        "**Вывод:**\n",
        "\n",
        "```\n",
        "красный\n",
        "оранжевый\n",
        "желтый\n",
        "зеленый\n",
        "голубой\n",
        "синий\n",
        "фиолетовый\n",
        "```"
      ]
    },
    {
      "cell_type": "code",
      "execution_count": 9,
      "metadata": {
        "id": "VHAi7B2vugB5"
      },
      "outputs": [],
      "source": [
        "rainbow = ['красный', 'оранжевый', 'желтый', 'зеленый', 'голубой', 'синий', 'фиолетовый']"
      ]
    },
    {
      "cell_type": "code",
      "execution_count": 15,
      "metadata": {
        "id": "qB0hSJNMugB5"
      },
      "outputs": [
        {
          "name": "stdout",
          "output_type": "stream",
          "text": [
            "красный\n",
            "оранжевый\n",
            "желтый\n",
            "зеленый\n",
            "голубой\n",
            "синий\n",
            "фиолетовый\n"
          ]
        }
      ],
      "source": [
        "# ваш код в этой ячейке\n",
        "i=0\n",
        "while i< len(rainbow):\n",
        "    print(rainbow[i])\n",
        "    i+=1"
      ]
    },
    {
      "cell_type": "markdown",
      "metadata": {
        "id": "c58PBMtjvAUl"
      },
      "source": [
        "## Задача 3. Оракул"
      ]
    },
    {
      "cell_type": "markdown",
      "metadata": {
        "id": "IQUxTrCuvDVq"
      },
      "source": [
        "Преподаватель по объектно-ориентированному программированию придумал неординарный способ принятия зачета у студентов. Суть в следующем: он берет учебник, просит студента назвать несколько номеров страниц, находит самый большой из них, а затем делит нацело количество названных номеров. Полученное число - есть номер страницы, по материалам которой он задаст вопрос студенту. Помогите преподавателю реализовать такой алгоритм.\n",
        "\n",
        "Примечание:\n",
        "*   Порядок номеров в исходном списке может быть любым.\n",
        "*   Поиск максимального значения из списка осуществить с помощью цикла while\n",
        "\n"
      ]
    },
    {
      "cell_type": "markdown",
      "metadata": {
        "id": "tpB9CwyAvVGk"
      },
      "source": [
        "### Пример"
      ]
    },
    {
      "cell_type": "markdown",
      "metadata": {
        "id": "95qim08AvVGl"
      },
      "source": [
        "**Ввод:**\n",
        "\n",
        "```\n",
        "[33, 15, 17, 13, 92, 54, 29, 8]\n",
        "```\n",
        "\n",
        "**Вывод:**\n",
        "\n",
        "```\n",
        "11\n",
        "```"
      ]
    },
    {
      "cell_type": "code",
      "execution_count": 20,
      "metadata": {
        "id": "Mzr78Xz6vVGm"
      },
      "outputs": [
        {
          "name": "stdout",
          "output_type": "stream",
          "text": [
            "['33', '15', '17', '13', '92', '54', '29', '8']\n"
          ]
        }
      ],
      "source": [
        "list_of_elements = input().split()\n",
        "print(list_of_elements)"
      ]
    },
    {
      "cell_type": "code",
      "execution_count": 21,
      "metadata": {
        "id": "6AnPzmHQvVGm"
      },
      "outputs": [
        {
          "name": "stdout",
          "output_type": "stream",
          "text": [
            "11\n"
          ]
        }
      ],
      "source": [
        "# ваш код в этой ячейке\n",
        "max_elem = int(list_of_elements[0])\n",
        "i=1\n",
        "while i < len(list_of_elements):\n",
        "    if int(list_of_elements[i])>max_elem:\n",
        "        max_elem = int(list_of_elements[i])\n",
        "        i+=1\n",
        "    else:\n",
        "        i+=1\n",
        "print(max_elem//len(list_of_elements))"
      ]
    },
    {
      "cell_type": "markdown",
      "metadata": {
        "id": "_MZHExF30qcb"
      },
      "source": [
        "## Задача 4. Прогульщица"
      ]
    },
    {
      "cell_type": "markdown",
      "metadata": {
        "id": "ppbD8JVO0yvV"
      },
      "source": [
        "Студентка Светлана прогуляла лекцию по математическому анализу. Преподаватель решил подшутить над ней и попросил ее на практическом занятии перечислить все положительные делители некоторых целых чисел. Для несложных примеров студентка быстро нашла решения (для числа 6 это: 1, 2, 3, 6; а для числа 16 это: 1, 2, 4, 8, 16), но этим все не закончилось. На домашнее задание ей дали варианты посложнее: 5683, 23436, 190187200. Напишите программу с помощью цикла while, которая поможет Анне выполнить домашнее задание.\n",
        "\n",
        "Примечание: из делителей необходимо сформировать список."
      ]
    },
    {
      "cell_type": "markdown",
      "metadata": {
        "id": "iVfmCifg1Xo4"
      },
      "source": [
        "### Пример"
      ]
    },
    {
      "cell_type": "markdown",
      "metadata": {
        "id": "qFW0mhUA1Xo5"
      },
      "source": [
        "**Ввод:**\n",
        "\n",
        "```\n",
        "190187200\n",
        "```\n",
        "\n",
        "**Вывод:**\n",
        "\n",
        "```\n",
        "[1, 2, 4, 5, 7, 8, 10, 14, 16, 20, 25, 28, 32, 35, 40, 50, 56, 64, 70, 80, 100, 112, 140, 160, 175, 200, 224, 280, 320, 350, 400, 448, 560, 700, 800, 1120, 1400, 1600, 2240, 2800, 5600, 11200, 16981, 33962, 67924, 84905, 118867, 135848, 169810, 237734, 271696, 339620, 424525, 475468, 543392, 594335, 679240, 849050, 950936, 1086784, 1188670, 1358480, 1698100, 1901872, 2377340, 2716960, 2971675, 3396200, 3803744, 4754680, 5433920, 5943350, 6792400, 7607488, 9509360, 11886700, 13584800, 19018720, 23773400, 27169600, 38037440, 47546800, 95093600, 190187200]\n",
        "```"
      ]
    },
    {
      "cell_type": "code",
      "execution_count": 30,
      "metadata": {
        "id": "dDac7qLK1Xo5"
      },
      "outputs": [],
      "source": [
        "# дополните код в этой ячейке\n",
        "num =int(input())"
      ]
    },
    {
      "cell_type": "code",
      "execution_count": 32,
      "metadata": {
        "id": "0gsVLdds1Xo5"
      },
      "outputs": [
        {
          "name": "stdout",
          "output_type": "stream",
          "text": [
            "[1, 2, 4, 5, 7, 8, 10, 14, 16, 20, 25, 28, 32, 35, 40, 50, 56, 64, 70, 80, 100, 112, 140, 160, 175, 200, 224, 280, 320, 350, 400, 448, 560, 700, 800, 1120, 1400, 1600, 2240, 2800, 5600, 11200, 16981, 33962, 67924, 84905, 118867, 135848, 169810, 237734, 271696, 339620, 424525, 475468, 543392, 594335, 679240, 849050, 950936, 1086784, 1188670, 1358480, 1698100, 1901872, 2377340, 2716960, 2971675, 3396200, 3803744, 4754680, 5433920, 5943350, 6792400, 7607488, 9509360, 11886700, 13584800, 19018720, 23773400, 27169600, 38037440, 47546800, 95093600, 190187200]\n"
          ]
        }
      ],
      "source": [
        "# ваш код в этой ячейке\n",
        "del_list=[]\n",
        "i=1\n",
        "while i<=num:\n",
        "    if num%i==0:\n",
        "        del_list.append(i)\n",
        "    i+=1\n",
        "print(del_list)"
      ]
    },
    {
      "cell_type": "markdown",
      "metadata": {
        "id": "QMlUzOq0oAI5"
      },
      "source": [
        "## Задача 5. Всё по порядку"
      ]
    },
    {
      "cell_type": "markdown",
      "metadata": {
        "id": "NOUFNcLEsjtn"
      },
      "source": [
        "Дано натуральное число. Напишите программу, которая определяет, является ли последовательность его цифр при просмотре слева направо упорядоченной по убыванию. Если условие удовлетворено выведите `ДА`, в противном случае - `НЕТ`"
      ]
    },
    {
      "cell_type": "markdown",
      "metadata": {
        "id": "LqTAjBrNzVw9"
      },
      "source": [
        "### Пример"
      ]
    },
    {
      "cell_type": "markdown",
      "metadata": {
        "id": "zm-BBANJsmkt"
      },
      "source": [
        "**Ввод:**\n",
        "\n",
        "```\n",
        "75320\n",
        "```\n",
        "\n",
        "**Вывод:**\n",
        "\n",
        "```\n",
        "ДА\n",
        "```"
      ]
    },
    {
      "cell_type": "code",
      "execution_count": 50,
      "metadata": {
        "id": "s8S2idAn-C8R"
      },
      "outputs": [],
      "source": [
        "# дополните код в этой ячейке\n",
        "num_for_check = input()"
      ]
    },
    {
      "cell_type": "code",
      "execution_count": 51,
      "metadata": {
        "id": "hbEFM96kjI_p"
      },
      "outputs": [
        {
          "name": "stdout",
          "output_type": "stream",
          "text": [
            "НЕТ\n"
          ]
        }
      ],
      "source": [
        "# ваш код в этой ячейке\n",
        "num_for_check = list(num_for_check)\n",
        "if num_for_check == sorted(num_for_check, reverse = True):\n",
        "    print('ДА')\n",
        "else:\n",
        "    print('НЕТ')        "
      ]
    },
    {
      "cell_type": "markdown",
      "metadata": {},
      "source": [
        "## Задача 6. Материалы художника"
      ]
    },
    {
      "cell_type": "markdown",
      "metadata": {},
      "source": [
        "У вас есть список с перечнем материалов художника `draw`.\n",
        "\n",
        "С использованием цикла `for` выведите все материалы в столбик.\n",
        "\n",
        "*Примечание. Задачу необходимо решить без функции range( ).*"
      ]
    },
    {
      "cell_type": "markdown",
      "metadata": {},
      "source": [
        "### Пример"
      ]
    },
    {
      "cell_type": "markdown",
      "metadata": {},
      "source": [
        "**Ввод:**\n",
        "\n",
        "```\n",
        "['Краски', 'Кисть', 'Разбавитель', 'Шпатель', 'Холст', 'Палитра']\n",
        "\n",
        "```\n",
        "\n",
        "**Вывод:**\n",
        "\n",
        "```\n",
        "Краски\n",
        "Кисть\n",
        "Разбавитель\n",
        "Шпатель\n",
        "Холст\n",
        "Палитра\n",
        "```"
      ]
    },
    {
      "cell_type": "code",
      "execution_count": 5,
      "metadata": {},
      "outputs": [
        {
          "data": {
            "text/plain": [
              "['Краски', 'Кисть', 'Разбавитель', 'Шпатель', 'Холст', 'Палитра']"
            ]
          },
          "execution_count": 5,
          "metadata": {},
          "output_type": "execute_result"
        }
      ],
      "source": [
        "# дополните код в этой ячейке\n",
        "draw = input().split()"
      ]
    },
    {
      "cell_type": "code",
      "execution_count": 4,
      "metadata": {},
      "outputs": [
        {
          "name": "stdout",
          "output_type": "stream",
          "text": [
            "Краски\n",
            "Кисть\n",
            "Разбавитель\n",
            "Шпатель\n",
            "Холст\n",
            "Палитра\n"
          ]
        }
      ],
      "source": [
        "# ваш код в этой ячейке\n",
        "for item in draw:\n",
        "    print(item)"
      ]
    },
    {
      "cell_type": "markdown",
      "metadata": {},
      "source": [
        "## Задача 7. Затроилось..."
      ]
    },
    {
      "cell_type": "markdown",
      "metadata": {},
      "source": [
        "Попросите пользователя ввести какое-либо слово, а также число. При помощи циклов выведите каждый символ строки, при этом символ должен повторяться количество раз равным числу, что ввел пользователь. Каждый последующий новый символ необходимо выводить с новой строки, например: ок."
      ]
    },
    {
      "cell_type": "markdown",
      "metadata": {},
      "source": [
        "### Пример"
      ]
    },
    {
      "cell_type": "markdown",
      "metadata": {},
      "source": [
        "**Ввод:**\n",
        "\n",
        "```\n",
        "Привет\n",
        "3\n",
        "```\n",
        "\n",
        "**Вывод:**\n",
        "\n",
        "```\n",
        "ППП\n",
        "ррр\n",
        "иии\n",
        "ввв\n",
        "еее\n",
        "ттт\n",
        "```"
      ]
    },
    {
      "cell_type": "code",
      "execution_count": 10,
      "metadata": {},
      "outputs": [
        {
          "name": "stdout",
          "output_type": "stream",
          "text": [
            "ППП\n",
            "ррр\n",
            "иии\n",
            "ввв\n",
            "еее\n",
            "ттт\n"
          ]
        }
      ],
      "source": [
        "# ваш код в этой ячейке\n",
        "Word=input()\n",
        "Count = int(input())\n",
        "for char in Word:\n",
        "    print(char * Count)"
      ]
    },
    {
      "cell_type": "markdown",
      "metadata": {},
      "source": [
        "## Задача 8. Таракан"
      ]
    },
    {
      "cell_type": "markdown",
      "metadata": {},
      "source": [
        "Студент в общежитии проводит перепись своих вещей. Он до смерти боится тараканов, поэтому, только увидев их, бросает все свои дела и убегает. Необходимо вывести на экран вещи из списка студента, но если среди вещей появится '`таракан`' — немедленно выйти из цикла и на экран вывести '`Студен убежал'`\n",
        "\n",
        "Примечение: необходимо предлагать ввод вещей с клавиатуры до момента ввода слова `таракан`."
      ]
    },
    {
      "cell_type": "markdown",
      "metadata": {},
      "source": [
        "### Пример"
      ]
    },
    {
      "cell_type": "markdown",
      "metadata": {},
      "source": [
        "**Ввод:**\n",
        "\n",
        "```\n",
        "учебник\n",
        "тетрадь\n",
        "грязная кружка\n",
        "степлер\n",
        "носки\n",
        "таракан\n",
        "```\n",
        "\n",
        "**Вывод:**\n",
        "\n",
        "```\n",
        "учебник\n",
        "тетрадь\n",
        "грязная кружка\n",
        "степлер\n",
        "носки\n",
        "Студент убежал\n",
        "```"
      ]
    },
    {
      "cell_type": "code",
      "execution_count": 11,
      "metadata": {},
      "outputs": [
        {
          "name": "stdout",
          "output_type": "stream",
          "text": [
            "стол\n",
            "Парик\n",
            "Студент убежал\n"
          ]
        }
      ],
      "source": [
        "# ваш код в этой ячейке\n",
        "item = input()\n",
        "while item != \"таракан\":\n",
        "    print(item)\n",
        "    item = input()\n",
        "else:\n",
        "    print(\"Студент убежал\")"
      ]
    }
  ],
  "metadata": {
    "colab": {
      "provenance": []
    },
    "kernelspec": {
      "display_name": "Python 3",
      "name": "python3"
    },
    "language_info": {
      "codemirror_mode": {
        "name": "ipython",
        "version": 3
      },
      "file_extension": ".py",
      "mimetype": "text/x-python",
      "name": "python",
      "nbconvert_exporter": "python",
      "pygments_lexer": "ipython3",
      "version": "3.12.1"
    }
  },
  "nbformat": 4,
  "nbformat_minor": 0
}
