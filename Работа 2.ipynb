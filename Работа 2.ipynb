{
  "cells": [
    {
      "cell_type": "markdown",
      "metadata": {
        "id": "EVbqAmZF1ckK"
      },
      "source": [
        "# Самостоятельная работа (Условный оператор в Python)"
      ]
    },
    {
      "cell_type": "markdown",
      "metadata": {
        "id": "iQhhkJb8yk0e"
      },
      "source": [
        "## Задача 1. Шанс на поступление"
      ]
    },
    {
      "cell_type": "markdown",
      "metadata": {
        "id": "4CntGw70y0cl"
      },
      "source": [
        "На вход программе дается три числа в интервале от 50 до 100 каждое. Они представляют собой баллы, набранные школьником по ЕГЭ по русскому языку, математике и информатике. Известно, что имея сумму баллов 260 по трем предметам, он имеет шанс поступить на бюджет в Финансовый университет. Напишите программу, которая подсчитает сумму набранных баллов и, если сумма больше 260, то выведет на экран фразу `\"Ура! У тебя есть шанс поступить на бюджет в Финансовый университет!\"`, а в противном случае: `\"К сожалению, ты скорее всего не пройдешь на бюджет, но ты можеть поступить на платное обучение.\"`"
      ]
    },
    {
      "cell_type": "markdown",
      "metadata": {
        "id": "2cTbtyQ62Jn0"
      },
      "source": [
        "### Пример"
      ]
    },
    {
      "cell_type": "markdown",
      "metadata": {
        "id": "rl9nUzJZ0MEd"
      },
      "source": [
        "**Ввод:**\n",
        "\n",
        "```\n",
        "100\n",
        "100\n",
        "100\n",
        "```\n",
        "\n",
        "**Вывод:**\n",
        "\n",
        "```\n",
        "Ура! У тебя есть шанс поступить на бюджет в Финансовый университет!\n",
        "```"
      ]
    },
    {
      "cell_type": "markdown",
      "metadata": {
        "id": "ZxaBi4do0DBR"
      },
      "source": [
        "**Ввод:**\n",
        "\n",
        "```\n",
        "50\n",
        "70\n",
        "85\n",
        "```\n",
        "\n",
        "**Вывод:**\n",
        "\n",
        "```\n",
        "К сожалению, ты скорее всего не пройдешь на бюджет, но ты можеть поступить на платное обучение.\n",
        "```"
      ]
    },
    {
      "cell_type": "code",
      "execution_count": null,
      "metadata": {
        "id": "VjEAUOwoy85-"
      },
      "outputs": [],
      "source": [
        "# дополните код в этой ячейке\n",
        "\n",
        "russian = int(input())\n",
        "maths = int(input())\n",
        "computer_science = int(input())"
      ]
    },
    {
      "cell_type": "code",
      "execution_count": null,
      "metadata": {
        "id": "xDr0YsR_0kNP"
      },
      "outputs": [],
      "source": [
        "# ваш код в этой ячейке\n",
        "if russian+maths+computer_science >260:\n",
        "    print(\"Ура! У тебя есть шанс поступить на бюджет в Финансовый университет!\")\n",
        "else:\n",
        "    print(\"К сожалению, ты скорее всего не пройдешь на бюджет, но ты можеть поступить на платное обучение.\")"
      ]
    },
    {
      "cell_type": "markdown",
      "metadata": {
        "id": "4vF5X_qh14sO"
      },
      "source": [
        "## Задача 2. Имена ученых"
      ]
    },
    {
      "cell_type": "markdown",
      "metadata": {
        "id": "F6BHNVlbPKci"
      },
      "source": [
        "Напишите программу, которая принимает на вход три имени и фамилии известных ученых и выводит на экран самое короткое и самое длинное имя.\n",
        "\n",
        "*Предполагается, что вводимые имена и фамилии имеют разную длину.*"
      ]
    },
    {
      "cell_type": "markdown",
      "metadata": {
        "id": "wip8mnxh2L6M"
      },
      "source": [
        "### Пример"
      ]
    },
    {
      "cell_type": "markdown",
      "metadata": {
        "id": "MCii8ioA2ODr"
      },
      "source": [
        "**Ввод:**\n",
        "\n",
        "```\n",
        "Исаак Ньютон\n",
        "Альберт Эйнштейн\n",
        "Мария Кюри\n",
        "```\n",
        "\n",
        "**Вывод:**\n",
        "\n",
        "```\n",
        "Мария Кюри\n",
        "Альберт Эйнштейн\n",
        "```"
      ]
    },
    {
      "cell_type": "code",
      "execution_count": 2,
      "metadata": {
        "id": "OFWB97mO2Xgi"
      },
      "outputs": [],
      "source": [
        "# дополните код в этой ячейке\n",
        "name_1 =str(input())\n",
        "name_2 =str(input())\n",
        "name_3 =str(input())"
      ]
    },
    {
      "cell_type": "code",
      "execution_count": 7,
      "metadata": {
        "id": "b3fGJUig29Rs"
      },
      "outputs": [
        {
          "name": "stdout",
          "output_type": "stream",
          "text": [
            "Мария Кюри\n",
            "Альберт Эйнштейн\n"
          ]
        }
      ],
      "source": [
        "# ваш код в этой ячейке\n",
        "length_name_1 = len(name_1.split()[0])\n",
        "length_name_2 = len(name_2.split()[0])\n",
        "length_name_3 = len(name_3.split()[0])\n",
        "if length_name_1 < length_name_2 and length_name_1 < length_name_3:\n",
        "    print(name_1)\n",
        "elif length_name_2 < length_name_1 and length_name_2 < length_name_3:\n",
        "    print(name_2)\n",
        "else:\n",
        "    print(name_3)  \n",
        "\n",
        "if length_name_1 > length_name_2 and length_name_1 > length_name_3:\n",
        "    print(name_1)\n",
        "elif length_name_2 > length_name_1 and length_name_2 > length_name_3:\n",
        "    print(name_2)\n",
        "else:\n",
        "    print(name_3)    \n"
      ]
    },
    {
      "cell_type": "markdown",
      "metadata": {
        "id": "zdiRaLuLuJOf"
      },
      "source": [
        "## Задача 3. Единицы измерений в системе СИ"
      ]
    },
    {
      "cell_type": "markdown",
      "metadata": {
        "id": "ju7Wqnh4uOeN"
      },
      "source": [
        "Напишите программу, которая подскажет единицы измерений физических величин. Программа должна принимимать на вход одну из величин: `длина, масса, время, сила тока, количество вещества`, - и вывести: ** Единицей измерения величины \"[Величина]\" является ...**  `метр, килограмм, секунда, ампер, моль`, соответственно.\n",
        "\n",
        "**Для решения использовать конструкцию match/case**"
      ]
    },
    {
      "cell_type": "markdown",
      "metadata": {
        "id": "Qh6ECPCnugB3"
      },
      "source": [
        "### Пример"
      ]
    },
    {
      "cell_type": "markdown",
      "metadata": {
        "id": "ey2W3nqFugB4"
      },
      "source": [
        "**Ввод:**\n",
        "\n",
        "```\n",
        "сила тока\n",
        "```\n",
        "\n",
        "**Вывод:**\n",
        "\n",
        "```\n",
        "Единицей измерения величины \"сила тока\" является ампер.\n",
        "```"
      ]
    },
    {
      "cell_type": "code",
      "execution_count": 13,
      "metadata": {
        "id": "VHAi7B2vugB5"
      },
      "outputs": [],
      "source": [
        "parameter = str(input('Введите одну из физических величин (длина, масса, время, сила тока, количество вещества): '))"
      ]
    },
    {
      "cell_type": "code",
      "execution_count": 14,
      "metadata": {
        "id": "qB0hSJNMugB5"
      },
      "outputs": [
        {
          "name": "stdout",
          "output_type": "stream",
          "text": [
            "Единицей измерения величины \"количество вещества\" является моль.\n"
          ]
        }
      ],
      "source": [
        "# ваш код в этой ячейке\n",
        "match parameter.lower():\n",
        "    case \"длина\"    : print(\"Единицей измерения величины \\\"длина\\\" является метр.\")\n",
        "    case \"масса\"    : print(\"Единицей измерения величины \\\"масса\\\" является килограмм.\")\n",
        "    case \"время\"   : print(\"Единицей измерения величины \\\"время\\\" является секунда.\")\n",
        "    case \"сила тока\" : print(\"Единицей измерения величины \\\"сила тока\\\" является ампер.\")\n",
        "    case \"количество вещества\"  : print(\"Единицей измерения величины \\\"количество вещества\\\" является моль.\")\n",
        "   "
      ]
    },
    {
      "cell_type": "markdown",
      "metadata": {
        "id": "_MZHExF30qcb"
      },
      "source": [
        "## Задача 4. Проверим число"
      ]
    },
    {
      "cell_type": "markdown",
      "metadata": {
        "id": "ppbD8JVO0yvV"
      },
      "source": [
        "На вход программе подается число. Необходимо проверить является ли оно пятизначным и делится ли нацело на 9 или 19. Если число соответствут требованиям, вывести: \"Число ... соответствует требованиям\", иначе \"Число ... не подходит\""
      ]
    },
    {
      "cell_type": "markdown",
      "metadata": {
        "id": "iVfmCifg1Xo4"
      },
      "source": [
        "### Пример"
      ]
    },
    {
      "cell_type": "markdown",
      "metadata": {
        "id": "qFW0mhUA1Xo5"
      },
      "source": [
        "**Ввод:**\n",
        "\n",
        "```\n",
        "13091\n",
        "```\n",
        "\n",
        "**Вывод:**\n",
        "\n",
        "```\n",
        "Число 13091 соответствует требованиям\n",
        "```"
      ]
    },
    {
      "cell_type": "code",
      "execution_count": 40,
      "metadata": {
        "id": "dDac7qLK1Xo5"
      },
      "outputs": [],
      "source": [
        "num = int(input())\n"
      ]
    },
    {
      "cell_type": "code",
      "execution_count": 41,
      "metadata": {
        "id": "0gsVLdds1Xo5"
      },
      "outputs": [
        {
          "name": "stdout",
          "output_type": "stream",
          "text": [
            "17100 17100\n",
            "True\n"
          ]
        }
      ],
      "source": [
        "# ваш код в этой ячейке\n",
        "print (num,str(num))\n",
        "if len(str(num))== 5 and (num %9==0 or num%19==0):\n",
        "    print(\"True\")\n",
        "else:\n",
        "    print(\"false\")"
      ]
    },
    {
      "cell_type": "markdown",
      "metadata": {
        "id": "QMlUzOq0oAI5"
      },
      "source": [
        "## Задача 5. Меню"
      ]
    },
    {
      "cell_type": "markdown",
      "metadata": {
        "id": "NOUFNcLEsjtn"
      },
      "source": [
        "Напишите программу, которая в зависимости от наличия продуктов будет предлагать блюда из меню.\n",
        "Если есть макароны (`pasta`) и сыр (`cheese`) — можно приготовить макароны с сыром\n",
        "Если есть яйца (`eggs`) — можно приготовить яичницу.\n",
        "Если есть макароны и яйца — будут макароны с яйцом.\n",
        "Можно устроить и более бюджетный ужин: просто макароны, кусочек сыра или не ужинать совсем.\n",
        "\n",
        "**Подсказка**: если ингридиент в наличии присваеиваем ему значение `True`, если нет - `False`\n"
      ]
    },
    {
      "cell_type": "markdown",
      "metadata": {
        "id": "LqTAjBrNzVw9"
      },
      "source": [
        "### Пример"
      ]
    },
    {
      "cell_type": "markdown",
      "metadata": {
        "id": "zm-BBANJsmkt"
      },
      "source": [
        "**Ввод:**\n",
        "\n",
        "```\n",
        "pasta = True\n",
        "cheese = True\n",
        "eggs = False\n",
        "```\n",
        "\n",
        "**Вывод:**\n",
        "\n",
        "```\n",
        "Сегодня у Вас на ужин - макароны с сыром\n",
        "```"
      ]
    },
    {
      "cell_type": "code",
      "execution_count": null,
      "metadata": {
        "id": "s8S2idAn-C8R"
      },
      "outputs": [],
      "source": [
        "# дополните код в этой ячейке\n",
        "pasta =\n",
        "cheese =\n",
        "eggs ="
      ]
    },
    {
      "cell_type": "code",
      "execution_count": null,
      "metadata": {
        "id": "hbEFM96kjI_p"
      },
      "outputs": [],
      "source": [
        "# ваш код в этой ячейке\n"
      ]
    }
  ],
  "metadata": {
    "colab": {
      "provenance": []
    },
    "kernelspec": {
      "display_name": "Python 3",
      "name": "python3"
    },
    "language_info": {
      "codemirror_mode": {
        "name": "ipython",
        "version": 3
      },
      "file_extension": ".py",
      "mimetype": "text/x-python",
      "name": "python",
      "nbconvert_exporter": "python",
      "pygments_lexer": "ipython3",
      "version": "3.12.1"
    }
  },
  "nbformat": 4,
  "nbformat_minor": 0
}
